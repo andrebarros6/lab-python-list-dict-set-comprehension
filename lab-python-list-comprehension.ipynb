{
 "cells": [
  {
   "cell_type": "markdown",
   "id": "25d7736c-ba17-4aff-b6bb-66eba20fbf4e",
   "metadata": {},
   "source": [
    "# Lab | List, Dict and Set Comprehension"
   ]
  },
  {
   "cell_type": "markdown",
   "id": "7dd3cbde-675a-4b81-92c3-f728846dbe06",
   "metadata": {},
   "source": [
    "## Exercise: Managing Customer Orders Optimized with Comprehension"
   ]
  },
  {
   "cell_type": "markdown",
   "id": "5d500160-2fb7-4777-b5e4-09d45ebaf328",
   "metadata": {},
   "source": [
    "In the previous exercise, you developed a program to manage customer orders and inventory. Now, let's take it a step further and incorporate comprehension into your code.\n",
    "\n",
    "Follow the steps below to complete the exercise:\n",
    "\n",
    "1. Review your code from the previous exercise and identify areas where you can apply comprehension to simplify and streamline your code. \n",
    "\n",
    "    - *Hint: Apply it to initialize inventory, updating the inventory and printing the updated inventory.*\n",
    "    \n",
    "    - For example, in initializing the inventory, we could have:\n",
    "    \n",
    "        ```python\n",
    "        def initialize_inventory(products):\n",
    "            inventory = {product: int(input(f\"Enter the quantity of {product}s available: \")) for product in products}\n",
    "            return inventory\n",
    "\n",
    "        ```\n",
    "<br>\n",
    "    \n",
    "    \n",
    "2. Modify the function get_customer_orders so it prompts the user to enter the number of customer orders and gathers the product names using a loop and user input. Use comprehension.\n",
    "\n",
    "3. Add a new function to calculate the total price of the customer order. For each product in customer_orders, prompt the user to enter the price of that product. Use comprehension to calculate the total price. Note: assume that the user can only have 1 unit of each product.\n",
    "\n",
    "4. Modify the update_inventory function to remove the product from the inventory if its quantity becomes zero after fulfilling the customer orders. Use comprehension to filter out the products with a quantity of zero from the inventory.\n",
    "\n",
    "5. Print the total price of the customer order.\n",
    "\n",
    "Your code should produce output similar to the following:\n",
    "\n",
    "```python\n",
    "Enter the quantity of t-shirts available:  5\n",
    "Enter the quantity of mugs available:  4\n",
    "Enter the quantity of hats available:  3\n",
    "Enter the quantity of books available:  2\n",
    "Enter the quantity of keychains available:  1\n",
    "Enter the number of customer orders:  2\n",
    "Enter the name of a product that a customer wants to order:  hat\n",
    "Enter the name of a product that a customer wants to order:  keychain\n",
    "\n",
    "Order Statistics:\n",
    "Total Products Ordered: 2\n",
    "Percentage of Unique Products Ordered: 40.0\n",
    "\n",
    "Updated Inventory:\n",
    "t-shirt: 5\n",
    "mug: 4\n",
    "hat: 2\n",
    "book: 2\n",
    "Enter the price of keychain:  5\n",
    "Enter the price of hat:  10\n",
    "Total Price: 15.0\n",
    "\n",
    "```\n"
   ]
  },
  {
   "cell_type": "markdown",
   "id": "204ab65f-91e8-4f55-94f8-b3e30beb35bf",
   "metadata": {},
   "source": [
    "# start of solution"
   ]
  },
  {
   "cell_type": "markdown",
   "id": "e91629a7-d7b1-40e3-9079-2b303fec135e",
   "metadata": {},
   "source": [
    "1. Review your code from the previous exercise and identify areas where you can apply comprehension to simplify and streamline your code.\n",
    "\n",
    "Hint: Apply it to initialize inventory, updating the inventory and printing the updated inventory.\n",
    "\n",
    "For example, in initializing the inventory, we could have:\n",
    "\n",
    "def initialize_inventory(products):\n",
    "    inventory = {product: int(input(f\"Enter the quantity of {product}s available: \")) for product in products}\n",
    "    return inventory\n",
    "    "
   ]
  },
  {
   "cell_type": "code",
   "execution_count": 1,
   "id": "a00ccd6f-a890-43d3-9203-347a1599938e",
   "metadata": {},
   "outputs": [],
   "source": [
    "#1. From lab_python_data_structures\n",
    "def initialize_inventory(products):\n",
    "    inventory = {product : int(input(f\"Enter the quantity of {product}: \")) for product in products}\n",
    "    return inventory\n",
    "\n",
    "# products = [\"t-shirt\", \"mug\", \"hat\", \"book\", \"keychain\"] \n",
    "# inventory = initialize_inventory(products)\n",
    "# inventory"
   ]
  },
  {
   "cell_type": "code",
   "execution_count": 2,
   "id": "2929727c-02ce-45ed-a384-f031a14bbe23",
   "metadata": {},
   "outputs": [],
   "source": [
    "# type(inventory)\n"
   ]
  },
  {
   "cell_type": "code",
   "execution_count": 3,
   "id": "72b31923-ee6d-4f6c-b0f4-63cb650e4fc9",
   "metadata": {},
   "outputs": [],
   "source": [
    "# 1.4\n",
    "# 1.5\n",
    "# customer_orders = set(customer_orders.add(input(f\"Enter 1 product: {user_product}\")) for user_product in range(3) if user_product in products)\n",
    "# print(customer_orders)\n",
    "\n",
    "def get_customer_orders():\n",
    "    more_products = \"yes\"\n",
    "    customer_orders = set()\n",
    "    while more_products != \"no\":\n",
    "        user_product = input(\"Enter the name of a product the customer wants to order: \")\n",
    "        if user_product in products:\n",
    "            # if yes add to the list and ask for another product\n",
    "            customer_orders.add(user_product)\n",
    "        # if not ask the user to repeat\n",
    "        else:\n",
    "            print(\"Product not in the list\")\n",
    "        more_products = input(\"Do you want to add another product (yes/no)\")\n",
    "        if more_products == \"yes\":\n",
    "            pass\n",
    "        elif more_products == \"no\":\n",
    "            pass\n",
    "        else:\n",
    "            more_products = input(\"Didn't understand. Please repeat. Do you want to add another product (yes/no)\")           \n",
    "    return customer_orders\n",
    "\n",
    "# customer_orders = get_customer_orders()"
   ]
  },
  {
   "cell_type": "code",
   "execution_count": 4,
   "id": "8ef3ca9d-19da-4232-bce4-46b90ff706dd",
   "metadata": {},
   "outputs": [],
   "source": [
    "#1.6 \n",
    "# print(customer_orders)\n",
    "\n",
    "#1.7\n",
    "def calculate_order_statistics (customer_orders, products, inventory):\n",
    "    total_products_ordered = len(customer_orders)\n",
    "\n",
    "    total_products = 0\n",
    "    for product in inventory:\n",
    "        total_products += 1\n",
    "    percentage = (total_products_ordered / total_products)*100\n",
    "    return total_products_ordered, percentage\n",
    "\n",
    "# order_status = calculate_order_statistics (customer_orders, products)\n",
    "\n",
    "#1.8. Print the order statistics using the following format:\n",
    "def print_order_statistics(calculate_order_statistics):\n",
    "    rounded_percentage = round(calculate_order_statistics[1], 3)\n",
    "    print(\"\\n\")\n",
    "    print(\"Order Statistics: \")\n",
    "    print(\"Total Products Ordered:\", calculate_order_statistics[0])\n",
    "    print(f\"Percentage of Products Ordered: {rounded_percentage}%\")\n",
    "    print(\"\\n\")\n",
    "\n",
    "# order_status = calculate_order_statistics(customer_orders, products)\n",
    "# print_order_statistics(order_status)"
   ]
  },
  {
   "cell_type": "code",
   "execution_count": 17,
   "id": "45556cbd-3b95-4c27-8009-bcd932dfc808",
   "metadata": {},
   "outputs": [
    {
     "data": {
      "text/plain": [
       "{'hat': 2, 'book': 0, 'mug': 4, 'key': 5}"
      ]
     },
     "execution_count": 17,
     "metadata": {},
     "output_type": "execute_result"
    }
   ],
   "source": [
    "#1.9. Update the inventory by subtracting 1 from the quantity of each product. Modify the inventory dictionary accordingly.\n",
    "# customer_orders = {\"hat\",\"book\"}\n",
    "# inventory = {\"hat\":3, \"book\":1 , \"mug\":4, \"key\":5}\n",
    "\n",
    "def update_inventory(customer_orders, inventory):\n",
    "    return {product : inventory[product] - 1 if product in customer_orders else inventory[product] for product in inventory.keys()}\n",
    "\n",
    "# updated_inventory = update_inventory(customer_orders, inventory)\n",
    "# updated_inventory"
   ]
  },
  {
   "cell_type": "code",
   "execution_count": 6,
   "id": "215df776-c6eb-48d7-b42b-87d9439c9838",
   "metadata": {},
   "outputs": [],
   "source": [
    "# inventory = update_inventory(customer_orders, inventory)\n",
    "# inventory"
   ]
  },
  {
   "cell_type": "markdown",
   "id": "9160c541-4411-4b05-91c6-59aea0af6192",
   "metadata": {},
   "source": [
    "2. Modify the function get_customer_orders so it prompts the user to enter the number of customer orders and gathers the product names using a loop and user input. Use comprehension."
   ]
  },
  {
   "cell_type": "code",
   "execution_count": 7,
   "id": "c41ae315-94da-4850-8ec9-fd6c49a108c8",
   "metadata": {},
   "outputs": [],
   "source": [
    "def get_customer_orders(products):\n",
    "    number_of_customer_orders = int(input(\"Enter the number of products the customer wants to order: \"))\n",
    "    orders = {input(\"Enter the name of a product the customer wants to order: \") for i in range(number_of_customer_orders)}\n",
    "    return orders.intersection(products)\n",
    "    \n",
    "# get_customer_orders(products)"
   ]
  },
  {
   "cell_type": "code",
   "execution_count": null,
   "id": "638de1be-fcc7-4665-8579-5abb9b119884",
   "metadata": {},
   "outputs": [],
   "source": []
  },
  {
   "cell_type": "markdown",
   "id": "7bfb6e77-ab83-49c0-8e47-7117ed4017de",
   "metadata": {},
   "source": [
    "3. Add a new function to calculate the total price of the customer order. For each product in customer_orders, prompt the user to enter the price of that product. Use comprehension to calculate the total price. Note: assume that the user can only have 1 unit of each product."
   ]
  },
  {
   "cell_type": "code",
   "execution_count": 8,
   "id": "014d8aa6-0e09-43a1-ac71-27cf78b2feb3",
   "metadata": {},
   "outputs": [],
   "source": [
    "def total_order_price(orders):\n",
    "    return sum(float(input(f\"Enter the price of {product}: \")) for product in orders)\n",
    "\n",
    "# total_price = total_order_price(customer_orders)"
   ]
  },
  {
   "cell_type": "markdown",
   "id": "6374bd98-83b0-4411-84d4-ae7de9adbc53",
   "metadata": {},
   "source": [
    "4. Modify the update_inventory function to remove the product from the inventory if its quantity becomes zero after fulfilling the customer orders. Use comprehension to filter out the products with a quantity of zero from the inventory."
   ]
  },
  {
   "cell_type": "code",
   "execution_count": 9,
   "id": "ff804530-9bd9-4e2a-a690-747f942b35fe",
   "metadata": {},
   "outputs": [],
   "source": [
    "# upd_inventory"
   ]
  },
  {
   "cell_type": "code",
   "execution_count": 20,
   "id": "a8716f95-1b25-4c58-85ff-a6d8024f33ef",
   "metadata": {},
   "outputs": [
    {
     "data": {
      "text/plain": [
       "set()"
      ]
     },
     "execution_count": 20,
     "metadata": {},
     "output_type": "execute_result"
    }
   ],
   "source": [
    "#inventory[\"t-shirt\"] = 0\n",
    "def update_inventory(customer_orders, inventory):\n",
    "    inventory = {product:inventory[product] for product in inventory if inventory[product] != 0}\n",
    "    inventory = {inventory.remove(product) for product in inventory if inventory[product] == 0}\n",
    "    return inventory\n",
    "\n",
    "inventory = {\"t-shirt\": 1, \"mug\": 3, \"hat\": 2, \"book\":6 , \"keychain\": 7}\n",
    "customer_orders = (\"hug\", \"mug\")\n",
    "upd_inventory = update_inventory(customer_orders, inventory)\n",
    "upd_inventory"
   ]
  },
  {
   "cell_type": "code",
   "execution_count": null,
   "id": "5ace09e6-786e-45dc-bd2c-85007131d558",
   "metadata": {},
   "outputs": [],
   "source": []
  },
  {
   "cell_type": "code",
   "execution_count": 11,
   "id": "1e692558-1159-4837-bd48-d425176c979e",
   "metadata": {},
   "outputs": [],
   "source": [
    "def print_updated_inventory(f_inventory):\n",
    "    print(\"Updated inventory:\")\n",
    "    [print(f\"{product} : {f_inventory[product]}\") for product in f_inventory]\n",
    "    \n",
    "\n",
    "# print_updated_inventory(upd_inventory)"
   ]
  },
  {
   "cell_type": "markdown",
   "id": "f9c379c0-06be-43ef-8dfa-7c0f2560be07",
   "metadata": {},
   "source": [
    "5. Print the total price of the customer order."
   ]
  },
  {
   "cell_type": "code",
   "execution_count": 12,
   "id": "7b8c7717-e8f3-4c1d-84cd-0915f01b6b7f",
   "metadata": {},
   "outputs": [],
   "source": [
    "def print_order_price(price_calculated):\n",
    "    print(\"Total price: \", price_calculated)"
   ]
  },
  {
   "cell_type": "code",
   "execution_count": 13,
   "id": "9d7fd5b9-692f-42a7-9ae1-611fed367739",
   "metadata": {},
   "outputs": [
    {
     "name": "stdin",
     "output_type": "stream",
     "text": [
      "Enter the quantity of t-shirt:  4\n",
      "Enter the quantity of mug:  2\n",
      "Enter the quantity of hat:  1\n",
      "Enter the quantity of book:  3\n",
      "Enter the quantity of keychain:  4\n",
      "Enter the number of products the customer wants to order:  2\n",
      "Enter the name of a product the customer wants to order:  hat\n",
      "Enter the name of a product the customer wants to order:  book\n"
     ]
    },
    {
     "name": "stdout",
     "output_type": "stream",
     "text": [
      "\n",
      "\n",
      "Order Statistics: \n",
      "Total Products Ordered: 2\n",
      "Percentage of Products Ordered: 40.0%\n",
      "\n",
      "\n",
      "Updated inventory:\n",
      "t-shirt : 4\n",
      "mug : 2\n",
      "hat : 1\n",
      "book : 3\n",
      "keychain : 4\n"
     ]
    },
    {
     "name": "stdin",
     "output_type": "stream",
     "text": [
      "Enter the price of hat:  4\n",
      "Enter the price of book:  5\n"
     ]
    },
    {
     "name": "stdout",
     "output_type": "stream",
     "text": [
      "Total price:  9.0\n"
     ]
    }
   ],
   "source": [
    "def manage_customer_orders(products):\n",
    "    inventory = initialize_inventory(products)\n",
    "    customer_orders = get_customer_orders(products)\n",
    "\n",
    "    updated_inventory = update_inventory(customer_orders,inventory)\n",
    "\n",
    "    order_statitics = calculate_order_statistics (customer_orders, products, inventory)\n",
    "\n",
    "    print_order_statistics(order_statitics)\n",
    "    print_updated_inventory(updated_inventory)\n",
    "    order_price = total_order_price(customer_orders)\n",
    "    print_order_price(order_price)\n",
    "\n",
    "products = [\"t-shirt\", \"mug\", \"hat\", \"book\", \"keychain\"] \n",
    "\n",
    "manage_customer_orders(products)"
   ]
  }
 ],
 "metadata": {
  "kernelspec": {
   "display_name": "Python 3 (ipykernel)",
   "language": "python",
   "name": "python3"
  },
  "language_info": {
   "codemirror_mode": {
    "name": "ipython",
    "version": 3
   },
   "file_extension": ".py",
   "mimetype": "text/x-python",
   "name": "python",
   "nbconvert_exporter": "python",
   "pygments_lexer": "ipython3",
   "version": "3.13.1"
  }
 },
 "nbformat": 4,
 "nbformat_minor": 5
}
